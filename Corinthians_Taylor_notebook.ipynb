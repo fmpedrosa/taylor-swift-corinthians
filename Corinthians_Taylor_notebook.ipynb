{
 "cells": [
  {
   "cell_type": "code",
   "execution_count": 39,
   "metadata": {},
   "outputs": [],
   "source": [
    "import pandas as pd\n",
    "from datetime import timedelta"
   ]
  },
  {
   "cell_type": "code",
   "execution_count": 40,
   "metadata": {},
   "outputs": [],
   "source": [
    "# Reading dataframes\n",
    "\n",
    "#Match Report\n",
    "df = pd.read_csv('data/campeonato-brasileiro-full.csv')\n",
    "#Filtering only matches envolving Corinthians\n",
    "df = df.loc[(df['mandante'] == 'Corinthians') |  (df['visitante'] == 'Corinthians') ] \n",
    "\n",
    "# Reading Album Realeses report\n",
    "df_album = pd.read_csv('data/album-releases.csv')"
   ]
  },
  {
   "cell_type": "code",
   "execution_count": 41,
   "metadata": {},
   "outputs": [],
   "source": [
    "def check_result(winner):\n",
    "    if winner== 'Corinthians':\n",
    "        return \"W\" #Win\n",
    "    if winner== '-':\n",
    "        return \"D\" #Draw\n",
    "    else:\n",
    "        return \"L\" #Loss\n",
    "df['result'] = df['vencedor'].apply(check_result)"
   ]
  },
  {
   "cell_type": "code",
   "execution_count": 42,
   "metadata": {},
   "outputs": [],
   "source": [
    "def get_closest_date(album_release_date):\n",
    "    try:\n",
    "        next_game_date = min(df.loc[df['data'] > album_release_date].data)\n",
    "    except:\n",
    "        next_game_date = None\n",
    "    return next_game_date\n"
   ]
  },
  {
   "cell_type": "code",
   "execution_count": 43,
   "metadata": {},
   "outputs": [],
   "source": [
    "# Formating Match Report(df) 'data' field - Match date field\n",
    "\n",
    "df['data'] = pd.to_datetime(df['data'], format = '%d/%m/%Y', errors='ignore')\n",
    "\n",
    "## Formating Album Releases table(df_album)  'date' field - Album realease date\n",
    "\n",
    "df_album['date'] = pd.to_datetime(df_album['date'], format = '%m/%d/%Y', errors='ignore')\n",
    "\n",
    "# Creating a function to extract the next match after an album releases.\n",
    "def get_closest_date(album_release_date):\n",
    "    try:\n",
    "        next_game_date = min(df.loc[df['data'] > album_release_date].data)\n",
    "    except:\n",
    "        next_game_date = None\n",
    "    return next_game_date\n",
    "\n",
    "#Applying the function and creating a new field 'clostest game date' in df_album\n",
    "df_album['closest_game_date'] = df_album['date'].apply(get_closest_date)\n",
    "\n",
    "#Formating closest_game_date\n",
    "df_album['closest_game_date'] = pd.to_datetime(df_album['closest_game_date'], format = '%Y/%m/%d', errors='raise')\n",
    "\n",
    "# Mergin the two dataframes into one 'df_merged\n",
    "df_merged = pd.merge(left = df_album, right = df, left_on= 'closest_game_date', right_on= 'data')"
   ]
  },
  {
   "cell_type": "code",
   "execution_count": 44,
   "metadata": {},
   "outputs": [],
   "source": [
    "# Filtering only the albums with a game within 7 days after the release\n",
    "df_merged['days_between_release_and_game'] =  df_merged['closest_game_date'] - df_merged['date']\n",
    "df_merged['released_within_7_days'] = df_merged['days_between_release_and_game'] <= timedelta(days = 7)\n",
    "df_scopo = df_merged.loc[df_merged['released_within_7_days'] == True].reset_index(drop=True)"
   ]
  },
  {
   "cell_type": "code",
   "execution_count": 45,
   "metadata": {},
   "outputs": [],
   "source": [
    "simple_pivot = pd.pivot_table(df_scopo, index= 'artist', values = 'album',columns = 'result', aggfunc='count', fill_value = 0, dropna= True)\n",
    "simple_pivot['total'] = simple_pivot['W'] + simple_pivot['D'] + simple_pivot['L']\n",
    "simple_pivot['victory_conversion'] = simple_pivot['W']/simple_pivot['total'] \n",
    "simple_pivot['victory_or_draw_conversion'] = (simple_pivot['W'] + simple_pivot['D'])/simple_pivot['total'] \n",
    "simple_pivot_filtered = simple_pivot.loc[(simple_pivot['total'] > 5) & (simple_pivot['victory_or_draw_conversion'] == 1)].sort_values('victory_conversion', ascending=False)"
   ]
  }
 ],
 "metadata": {
  "kernelspec": {
   "display_name": "Python 3",
   "language": "python",
   "name": "python3"
  },
  "language_info": {
   "codemirror_mode": {
    "name": "ipython",
    "version": 3
   },
   "file_extension": ".py",
   "mimetype": "text/x-python",
   "name": "python",
   "nbconvert_exporter": "python",
   "pygments_lexer": "ipython3",
   "version": "3.10.5"
  },
  "orig_nbformat": 4
 },
 "nbformat": 4,
 "nbformat_minor": 2
}
